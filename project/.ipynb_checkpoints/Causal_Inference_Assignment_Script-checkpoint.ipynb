{
 "cells": [
  {
   "cell_type": "code",
   "execution_count": 3,
   "id": "8ae84478",
   "metadata": {
    "scrolled": true
   },
   "outputs": [],
   "source": [
    "# External Libaries required for the majority of the assignment, more to be added as more tasks are completed \n",
    "from econml.metalearners import XLearner\n",
    "from sklearn.ensemble import RandomForestRegressor, RandomForestClassifier\n",
    "from sklearn.model_selection import cross_val_score\n",
    "from sklearn.model_selection import train_test_split\n",
    "from sklearn.preprocessing import StandardScaler\n",
    "from sklearn.linear_model import LinearRegression\n",
    "from sklearn.model_selection import RandomizedSearchCV\n",
    "from sklearn.model_selection import GridSearchCV\n",
    "import numpy as np\n",
    "import pandas as pd\n",
    "import seaborn as sns\n",
    "import scipy.stats as st\n",
    "import matplotlib.pyplot as plt"
   ]
  },
  {
   "cell_type": "markdown",
   "id": "9e84d2d2",
   "metadata": {},
   "source": [
    "# Preprocessing\n",
    "In this section, I will load the data, format it and interpret it's contents using a combination of graphs, and simple statistical measurements\n",
    "### Loading the data"
   ]
  },
  {
   "cell_type": "code",
   "execution_count": 4,
   "id": "82d72722",
   "metadata": {},
   "outputs": [],
   "source": [
    "# IHDP Dataset\n",
    "data = np.load('ihdp.npz')\n",
    "# Jobs Dataset\n",
    "data2 = np.load('jobs.npz')"
   ]
  },
  {
   "cell_type": "markdown",
   "id": "15b8f666",
   "metadata": {},
   "source": [
    "### Data contents and formatting"
   ]
  },
  {
   "cell_type": "code",
   "execution_count": 5,
   "id": "a9c55841",
   "metadata": {},
   "outputs": [
    {
     "name": "stdout",
     "output_type": "stream",
     "text": [
      "x: (747, 25)\n",
      "t: (747, 1)\n",
      "yf: (747, 1)\n",
      "ycf: (747, 1)\n",
      "ite: (747, 1)\n"
     ]
    }
   ],
   "source": [
    "# Column headers for data\n",
    "# x --> Background Variables\n",
    "# t --> Treatment Variable (Support or no support)\n",
    "# yf --> Outcome Variable (Factual)\n",
    "# ycf --> Outcome Variable (Counterfactual)\n",
    "# ite --> individual treatment effect\n",
    "for f in data.files:\n",
    "  print(f'{f}: {data[f].shape}')"
   ]
  },
  {
   "cell_type": "code",
   "execution_count": 6,
   "id": "025cece7",
   "metadata": {},
   "outputs": [
    {
     "name": "stdout",
     "output_type": "stream",
     "text": [
      "x: (3212, 17)\n",
      "t: (3212, 1)\n",
      "y: (3212, 1)\n",
      "e: (3212, 1)\n"
     ]
    }
   ],
   "source": [
    "# Column headers for data2\n",
    "# x --> Background Variables\n",
    "# t --> Treatment Variable (Training or no training)\n",
    "# y --> Outcome Variable (Factual)\n",
    "# e --> experimental or observational data\n",
    "for f in data2.files:\n",
    "  print(f'{f}: {data2[f].shape}')"
   ]
  },
  {
   "cell_type": "code",
   "execution_count": 7,
   "id": "e4363bb4",
   "metadata": {},
   "outputs": [
    {
     "name": "stdout",
     "output_type": "stream",
     "text": [
      "4.016066896118338\n"
     ]
    }
   ],
   "source": [
    "IHDP_x = data['x']\n",
    "IHDP_t = data['t']\n",
    "IHDP_yf = data['yf']\n",
    "IHDP_ycf = data['ycf']\n",
    "IHDP_ite = data['ite']\n",
    "# Average treatment effect of the IHDP dataset\n",
    "print(np.mean(IHDP_ite))\n",
    "Jobs_x = data2['x']\n",
    "Jobs_t = data2['t']\n",
    "Jobs_y = data2['y']\n",
    "Jobs_e = data2['e']\n",
    "limit=150"
   ]
  },
  {
   "cell_type": "markdown",
   "id": "105d928f",
   "metadata": {},
   "source": [
    "### Data exploration \n",
    "In this section, I convert our data to dataframe format and check for: Missing values, Non-numerical data, and any potential outliers"
   ]
  },
  {
   "cell_type": "code",
   "execution_count": 8,
   "id": "6672cfe0",
   "metadata": {},
   "outputs": [
    {
     "name": "stdout",
     "output_type": "stream",
     "text": [
      "<class 'pandas.core.frame.DataFrame'>\n",
      "RangeIndex: 747 entries, 0 to 746\n",
      "Data columns (total 25 columns):\n",
      " #   Column  Non-Null Count  Dtype  \n",
      "---  ------  --------------  -----  \n",
      " 0   0       747 non-null    float64\n",
      " 1   1       747 non-null    float64\n",
      " 2   2       747 non-null    float64\n",
      " 3   3       747 non-null    float64\n",
      " 4   4       747 non-null    float64\n",
      " 5   5       747 non-null    float64\n",
      " 6   6       747 non-null    float64\n",
      " 7   7       747 non-null    float64\n",
      " 8   8       747 non-null    float64\n",
      " 9   9       747 non-null    float64\n",
      " 10  10      747 non-null    float64\n",
      " 11  11      747 non-null    float64\n",
      " 12  12      747 non-null    float64\n",
      " 13  13      747 non-null    float64\n",
      " 14  14      747 non-null    float64\n",
      " 15  15      747 non-null    float64\n",
      " 16  16      747 non-null    float64\n",
      " 17  17      747 non-null    float64\n",
      " 18  18      747 non-null    float64\n",
      " 19  19      747 non-null    float64\n",
      " 20  20      747 non-null    float64\n",
      " 21  21      747 non-null    float64\n",
      " 22  22      747 non-null    float64\n",
      " 23  23      747 non-null    float64\n",
      " 24  24      747 non-null    float64\n",
      "dtypes: float64(25)\n",
      "memory usage: 146.0 KB\n"
     ]
    }
   ],
   "source": [
    "df_X = pd.DataFrame(IHDP_x)\n",
    "df_t = pd.DataFrame(IHDP_t)\n",
    "df_yf = pd.DataFrame(IHDP_yf)\n",
    "df_ycf = pd.DataFrame(IHDP_ycf)\n",
    "df_ite = pd.DataFrame(IHDP_ite)\n",
    "# Remove hash's one by one and inspect the contents of each part of the data\n",
    "df_X.info()\n",
    "#df_t.info()\n",
    "#df_yf.info()\n",
    "#df_ycf.info()\n",
    "#df_ite.info()"
   ]
  },
  {
   "cell_type": "markdown",
   "id": "2bfc9761",
   "metadata": {},
   "source": [
    "There appears to be no missing data or non-numerical values from the IHDP dataset therefore no preprocessing is needed in regards to encoding and filling Nan rows."
   ]
  },
  {
   "cell_type": "code",
   "execution_count": 9,
   "id": "7a9ffa31",
   "metadata": {},
   "outputs": [
    {
     "data": {
      "image/png": "[encoded data removed]",
      "text/plain": [
       "<Figure size 1440x720 with 3 Axes>"
      ]
     },
     "metadata": {
      "needs_background": "light"
     },
     "output_type": "display_data"
    }
   ],
   "source": [
    "fig, axs = plt.subplots(1, 3, figsize=(20,10))\n",
    "axs[0].boxplot(x = IHDP_x)\n",
    "axs[0].set_title(\"Background Variables\", fontsize=25, fontweight=\"bold\")\n",
    "axs[1].boxplot(x = IHDP_yf)\n",
    "axs[1].set_title(\"Factual Outcomes\", fontsize=25, fontweight=\"bold\")\n",
    "axs[2].boxplot(x = IHDP_ite)\n",
    "axs[2].set_title(\"Individual Treatment Effect\", fontsize=25, fontweight=\"bold\")\n",
    "plt.tight_layout()\n",
    "#plt.savefig(\"BoxPlots.png\", dpi=1200)"
   ]
  },
  {
   "cell_type": "markdown",
   "id": "14d7bf31",
   "metadata": {},
   "source": [
    "There does appear to be quite a few outliers in the IHDP dataset (as seen by the values lying outside the minimum and maximum of each box and whisker plot), especially in the non-binary variables. Given the spread of the data it may be best to standardize the data to prevent losing too much if we remove all the possible outliers however this can be experimented through different approaches to find what yields the more accurate results."
   ]
  },
  {
   "cell_type": "code",
   "execution_count": 10,
   "id": "ab902482",
   "metadata": {},
   "outputs": [],
   "source": [
    "df_X = pd.DataFrame(Jobs_x)\n",
    "df_t = pd.DataFrame(Jobs_t)\n",
    "df_y = pd.DataFrame(Jobs_y)\n",
    "df_e = pd.DataFrame(Jobs_e)\n",
    "#df_X.info()\n",
    "#df_t.info()\n",
    "#df_y.info()\n",
    "#df_e.info()"
   ]
  },
  {
   "cell_type": "markdown",
   "id": "d3198810",
   "metadata": {},
   "source": [
    "Similar to the IHDP dataset there appears to be no missing data or non-numerical values in jobs therefore no preprocessing is needed in regards to encoding and filling Nan rows."
   ]
  },
  {
   "cell_type": "code",
   "execution_count": 11,
   "id": "de44d367",
   "metadata": {},
   "outputs": [
    {
     "data": {
      "image/png": "[encoded data removed]",
      "text/plain": [
       "<Figure size 1440x720 with 1 Axes>"
      ]
     },
     "metadata": {
      "needs_background": "light"
     },
     "output_type": "display_data"
    }
   ],
   "source": [
    "plt.figure(figsize=(20,10))\n",
    "plt.boxplot(x = Jobs_x)\n",
    "plt.title(\"Background Variables\", fontsize=25, fontweight=\"bold\")\n",
    "#plt.savefig(\"BoxPlots2.png\", dpi=1200)\n",
    "plt.show()"
   ]
  },
  {
   "cell_type": "markdown",
   "id": "22211374",
   "metadata": {},
   "source": [
    "Again, identical to IHDP, jobs contains a vast amount of outliers in the background variables, thus a similar approach of \n",
    "experimenting with standardization will need to be taken. This being said, we could also investigate random forest regression\n",
    "models that should internally deal with any outliers and reduce the chance of our results being skewed or bias in any way"
   ]
  },
  {
   "cell_type": "markdown",
   "id": "b56f5dbf",
   "metadata": {},
   "source": [
    "### Data Modelling \n",
    "In this section I will try and spot any patterns or obvious trends in the data plots, as well as any issues that may need to be preprocessed in order to work with the approach we are trying to take. \n",
    "#### IHDP Dataset"
   ]
  },
  {
   "cell_type": "code",
   "execution_count": 12,
   "id": "33acdee3",
   "metadata": {},
   "outputs": [
    {
     "data": {
      "image/png": "[encoded data removed]",
      "text/plain": [
       "<Figure size 1152x288 with 5 Axes>"
      ]
     },
     "metadata": {
      "needs_background": "light"
     },
     "output_type": "display_data"
    }
   ],
   "source": [
    "bins=20\n",
    "fig, axs = plt.subplots(1, 5, figsize=(16, 4))\n",
    "axs[0].hist(IHDP_x, bins=bins)\n",
    "axs[1].hist(IHDP_t, bins=bins)\n",
    "axs[2].hist(IHDP_yf, bins=bins)\n",
    "axs[3].hist(IHDP_ycf, bins=bins)\n",
    "axs[4].hist(IHDP_ite, bins=bins)\n",
    "#plt.savefig(\"Histo.png\", dpi=1200)\n",
    "plt.show()"
   ]
  },
  {
   "cell_type": "markdown",
   "id": "9aeb3aae",
   "metadata": {},
   "source": [
    "The background variables X, although unbalanced, seem to demonstrate a typical shape given the dataset size, the same goes for both the factual and counter factual outcomes. The treatment variable is clearly represented as a binary, 0 being no treatment and 1 being treatment given. The individual treatment effect seems to be extremely negatively skewed although most of the values are around 4 which seems correct given our average treatment effect of 4.02"
   ]
  },
  {
   "cell_type": "code",
   "execution_count": 13,
   "id": "064397f0",
   "metadata": {},
   "outputs": [
    {
     "data": {
      "image/png": "[encoded data removed]",
      "text/plain": [
       "<Figure size 1152x288 with 4 Axes>"
      ]
     },
     "metadata": {
      "needs_background": "light"
     },
     "output_type": "display_data"
    }
   ],
   "source": [
    "fig, axs = plt.subplots(1, 4, figsize=(16, 4))\n",
    "# These scatterplots have only been made via factual outcomes \n",
    "# More scatterplots could be made to model the counterfactual outcomes\n",
    "\n",
    "axs[0].scatter(IHDP_x[:, 0].reshape(-1, 1)[IHDP_t == 1][:limit], IHDP_yf[IHDP_t == 1][:limit], c = \"r\", label = \"Treated\")\n",
    "axs[0].scatter(IHDP_x[:, 0].reshape(-1, 1)[IHDP_t == 0][:limit], IHDP_yf[IHDP_t == 0][:limit], c = \"g\", label = \"Control\")\n",
    "\n",
    "axs[1].scatter(IHDP_x[:, 0].reshape(-1, 1)[IHDP_t == 1][:limit], IHDP_ycf[IHDP_t == 1][:limit], c = \"r\", label = \"Treated\")\n",
    "axs[1].scatter(IHDP_x[:, 0].reshape(-1, 1)[IHDP_t == 0][:limit], IHDP_ycf[IHDP_t == 0][:limit], c = \"g\", label = \"Control\")\n",
    "\n",
    "axs[2].scatter(IHDP_x[:, 1].reshape(-1, 1)[IHDP_t == 1][:limit], IHDP_yf[IHDP_t == 1][:limit], c = \"r\", label = \"Treated\")\n",
    "axs[2].scatter(IHDP_x[:, 1].reshape(-1, 1)[IHDP_t == 0][:limit], IHDP_yf[IHDP_t == 0][:limit], c = \"g\", label = \"Control\")\n",
    "\n",
    "axs[3].scatter(IHDP_x[:, 1].reshape(-1, 1)[IHDP_t == 1][:limit], IHDP_ycf[IHDP_t == 1][:limit], c = \"r\", label = \"Treated\")\n",
    "axs[3].scatter(IHDP_x[:, 1].reshape(-1, 1)[IHDP_t == 0][:limit], IHDP_ycf[IHDP_t == 0][:limit], c = \"g\", label = \"Control\")\n",
    "\n",
    "axs[0].legend(ncol=2)\n",
    "axs[1].legend(ncol=2)\n",
    "axs[2].legend(ncol=2)\n",
    "axs[3].legend(ncol=2)\n",
    "#plt.savefig(\"Scatter.png\", dpi=1200)\n",
    "plt.show()"
   ]
  },
  {
   "cell_type": "markdown",
   "id": "10800054",
   "metadata": {},
   "source": [
    "Looking at the above graphs of the first two background variables (factual and counterfactual) measured against their outcomes with both the treated and control groups, we can observe some clear effects of the treatment which hopefully means they can be measured as we train and test our regression models."
   ]
  },
  {
   "cell_type": "markdown",
   "id": "3054ee20",
   "metadata": {},
   "source": [
    "#### Jobs Dataset"
   ]
  },
  {
   "cell_type": "code",
   "execution_count": 14,
   "id": "24b4d9d7",
   "metadata": {},
   "outputs": [
    {
     "data": {
      "image/png": "[encoded data removed]",
      "text/plain": [
       "<Figure size 1152x288 with 4 Axes>"
      ]
     },
     "metadata": {
      "needs_background": "light"
     },
     "output_type": "display_data"
    }
   ],
   "source": [
    "bins=20\n",
    "fig, axs = plt.subplots(1, 4, figsize=(16, 4))\n",
    "axs[0].hist(Jobs_x, bins=bins)\n",
    "axs[1].hist(Jobs_t, bins=bins)\n",
    "# Treatement is Binary (Trained / Untrained)\n",
    "axs[2].hist(Jobs_y, bins=bins)\n",
    "# Outcome is binary (Employed / Unemployed)\n",
    "axs[3].hist(Jobs_e, bins=bins)\n",
    "# Sample contents is binary (Experimental / Observational)\n",
    "plt.savefig(\"Histo2.png\", dpi=1200)\n",
    "plt.show()"
   ]
  },
  {
   "cell_type": "markdown",
   "id": "96b199e2",
   "metadata": {},
   "source": [
    "Similarly to IHDP, the background variables in Jobs seem to be relatively unbalanced, however again demonstrate the typical shape for the relative dataset size. All of t, y, and e represent binary values of either 0 and 1 with all graphs being unbalanced in their distributions. What I mean by this is there is alot more of one result then there is the other (More 1's than 0's or vice verca)\n"
   ]
  },
  {
   "cell_type": "code",
   "execution_count": 15,
   "id": "243c0943",
   "metadata": {},
   "outputs": [
    {
     "data": {
      "image/png": "[encoded data removed]",
      "text/plain": [
       "<Figure size 1152x288 with 4 Axes>"
      ]
     },
     "metadata": {
      "needs_background": "light"
     },
     "output_type": "display_data"
    }
   ],
   "source": [
    "fig, axs = plt.subplots(1, 4, figsize=(16, 4))\n",
    "limit = 20\n",
    "axs[0].scatter(Jobs_x[:, 0].reshape(-1, 1)[Jobs_t == 1][:limit], Jobs_y[Jobs_t == 1][:limit], c = \"r\", label = \"Treated\")\n",
    "axs[0].scatter(Jobs_x[:, 0].reshape(-1, 1)[Jobs_t == 0][:limit], Jobs_y[Jobs_t == 0][:limit], c = \"g\", label = \"Control\")\n",
    "\n",
    "axs[1].scatter(Jobs_x[:, 1].reshape(-1, 1)[Jobs_t == 1][:limit], Jobs_y[Jobs_t == 1][:limit], c = \"r\", label = \"Treated\")\n",
    "axs[1].scatter(Jobs_x[:, 1].reshape(-1, 1)[Jobs_t == 0][:limit], Jobs_y[Jobs_t == 0][:limit], c = \"g\", label = \"Control\")\n",
    "\n",
    "axs[2].scatter(Jobs_x[:, 2].reshape(-1, 1)[Jobs_t == 1][:limit], Jobs_y[Jobs_t == 1][:limit], c = \"r\", label = \"Treated\")\n",
    "axs[2].scatter(Jobs_x[:, 2].reshape(-1, 1)[Jobs_t == 0][:limit], Jobs_y[Jobs_t == 0][:limit], c = \"g\", label = \"Control\")\n",
    "\n",
    "axs[3].scatter(Jobs_x[:, 3].reshape(-1, 1)[Jobs_t == 1][:limit], Jobs_y[Jobs_t == 1][:limit], c = \"r\", label = \"Treated\")\n",
    "axs[3].scatter(Jobs_x[:, 3].reshape(-1, 1)[Jobs_t == 0][:limit], Jobs_y[Jobs_t == 0][:limit], c = \"g\", label = \"Control\")\n",
    "\n",
    "axs[0].legend(ncol=2)\n",
    "axs[1].legend(ncol=2)\n",
    "axs[2].legend(ncol=2)\n",
    "axs[3].legend(ncol=2)\n",
    "#plt.savefig(\"Scatter2.png\", dpi=1200)\n",
    "plt.show()"
   ]
  },
  {
   "cell_type": "markdown",
   "id": "d4cb6b31",
   "metadata": {},
   "source": [
    "As opposed to IHDP jobs outcomes is recorded as a binary variables thus only plotting scatter points on 0 and 1. It is significantly harder to spot obvious effects given the 4 graphs above, however this could just be a coincidence given the background variables we have chosen to plot. "
   ]
  },
  {
   "cell_type": "code",
   "execution_count": 16,
   "id": "a05e9444",
   "metadata": {},
   "outputs": [
    {
     "data": {
      "image/png": "[encoded data removed]",
      "text/plain": [
       "<Figure size 1152x288 with 2 Axes>"
      ]
     },
     "metadata": {
      "needs_background": "light"
     },
     "output_type": "display_data"
    }
   ],
   "source": [
    "bins=20\n",
    "fig, axs = plt.subplots(1, 2, figsize=(16, 4))\n",
    "axs[0].hist(IHDP_t, bins=bins)\n",
    "axs[0].set_title(\"IHDP Control and treatment Distribution\", fontsize=12, fontweight=\"bold\")\n",
    "axs[1].hist(Jobs_t, bins=bins)\n",
    "axs[1].set_title(\"Jobs Control and treatment Distribution\", fontsize=12, fontweight=\"bold\")\n",
    "#plt.savefig(\"CTsplit.png\", dpi=1200)\n",
    "plt.show()"
   ]
  },
  {
   "cell_type": "markdown",
   "id": "ed0844ff",
   "metadata": {},
   "source": [
    "The above graphs confirm our need to use X-learner. There is clear inbalance towards the treatment and control groups in both datasets, hopefully X-learner should be able to deal with this when calculating our CATE value. "
   ]
  },
  {
   "cell_type": "markdown",
   "id": "51a8c754",
   "metadata": {},
   "source": [
    "### Splitting and Standardizing the datasets\n",
    "I'm looking here to split the datasets with the same ratios of 80/20, and then create a function that given the parameters that are used to call it, return standardized data. "
   ]
  },
  {
   "cell_type": "code",
   "execution_count": 17,
   "id": "6dcba60d",
   "metadata": {},
   "outputs": [],
   "source": [
    "IHDP_x_train, IHDP_x_test, IHDP_t_train, IHDP_t_test, IHDP_yf_train, IHDP_yf_test, IHDP_ite_train, IHDP_ite_test = train_test_split(IHDP_x, IHDP_t, IHDP_yf, IHDP_ite, test_size=0.2)\n",
    "Jobs_x_train, Jobs_x_test, Jobs_t_train, Jobs_t_test, Jobs_y_train, Jobs_y_test = train_test_split(Jobs_x, Jobs_t, Jobs_y, test_size=0.2)"
   ]
  },
  {
   "cell_type": "markdown",
   "id": "0b6da761",
   "metadata": {},
   "source": [
    "# Training our models"
   ]
  },
  {
   "cell_type": "markdown",
   "id": "648a657c",
   "metadata": {},
   "source": [
    "## Random forest regressor\n",
    "Here we will start with a simple model with it's default parameters, we will then seek to improve the hyperparameters of the model using Grid Search, and evaluate both sets of results."
   ]
  },
  {
   "cell_type": "code",
   "execution_count": 21,
   "id": "e7d9f17c",
   "metadata": {},
   "outputs": [
    {
     "data": {
      "text/plain": [
       "RandomForestRegressor()"
      ]
     },
     "execution_count": 21,
     "metadata": {},
     "output_type": "execute_result"
    }
   ],
   "source": [
    "# Simple Random forest trained using the IHDP features + treatment\n",
    "random_forest_IHDP = RandomForestRegressor() \n",
    "Concatenated_XT_train_IHDP = np.concatenate([IHDP_x_train, IHDP_t_train], axis=1)\n",
    "random_forest_IHDP.fit(Concatenated_XT_train_IHDP, IHDP_yf_train.flatten())\n",
    "\n",
    "# Simple Random forest trained using the Jobs features + treatment\n",
    "random_forest_Jobs = RandomForestRegressor() \n",
    "Concatenated_XT_train_Jobs = np.concatenate([Jobs_x_train, Jobs_t_train], axis=1)\n",
    "random_forest_Jobs.fit(Concatenated_XT_train_Jobs, Jobs_y_train.flatten())"
   ]
  },
  {
   "cell_type": "markdown",
   "id": "107dde34",
   "metadata": {},
   "source": [
    "Now we predict Y0 and Y1 given t=0 and t=1 respectively for both datasets"
   ]
  },
  {
   "cell_type": "code",
   "execution_count": 22,
   "id": "b322e646",
   "metadata": {},
   "outputs": [],
   "source": [
    "# t=0 - IHDP\n",
    "Concatenated_XT_zeros_IHDP = np.concatenate([IHDP_x_test, np.zeros_like(IHDP_t_test)], axis=1)\n",
    "Y0_IHDP = random_forest_IHDP.predict(Concatenated_XT_zeros_IHDP)\n",
    "# t=1 - IHDP\n",
    "Concatenated_XT_ones_IHDP = np.concatenate([IHDP_x_test, np.ones_like(IHDP_t_test)], axis=1)\n",
    "Y1_IHDP = random_forest_IHDP.predict(Concatenated_XT_ones_IHDP)\n",
    "\n",
    "\n",
    "# t=0 - Jobs\n",
    "Concatenated_XT_zeros_Jobs = np.concatenate([IHDP_x_test, np.zeros_like(IHDP_t_test)], axis=1)\n",
    "Y0_Jobs = random_forest_IHDP.predict(Concatenated_XT_zeros_Jobs)\n",
    "# t=1 - Jobs\n",
    "Concatenated_XT_ones_Jobs = np.concatenate([IHDP_x_test, np.ones_like(IHDP_t_test)], axis=1)\n",
    "Y1_Jobs = random_forest_IHDP.predict(Concatenated_XT_ones_Jobs)"
   ]
  },
  {
   "cell_type": "markdown",
   "id": "b05c0781",
   "metadata": {},
   "source": [
    "Now we can calculate our effect estimates as Y1-Y0"
   ]
  },
  {
   "cell_type": "code",
   "execution_count": 23,
   "id": "8519a4e6",
   "metadata": {},
   "outputs": [],
   "source": [
    "#ITEs for IHDP dataset\n",
    "Effect_Estimates_IHDP = Y1_IHDP - Y0_IHDP\n",
    "#ITEs for Jobs dataset\n",
    "Effect_Estimates_Jobs = Y1_Jobs - Y0_Jobs"
   ]
  },
  {
   "cell_type": "markdown",
   "id": "39de3fc7",
   "metadata": {},
   "source": [
    "## Hyperparameter Tuning"
   ]
  },
  {
   "cell_type": "markdown",
   "id": "d6ca4a25",
   "metadata": {},
   "source": [
    "For hyperparameter tuning, we will execute a combination of both random and grid search. Random search will allow us to narrow down a more specific range for each of the random forest hyperparameters, whilst grid search will allow us to try every individual combination in these ranges."
   ]
  },
  {
   "cell_type": "markdown",
   "id": "c4ca5105",
   "metadata": {},
   "source": [
    "### Random Search IHDP"
   ]
  },
  {
   "cell_type": "code",
   "execution_count": 26,
   "id": "4dfdc957",
   "metadata": {},
   "outputs": [
    {
     "name": "stdout",
     "output_type": "stream",
     "text": [
      "Fitting 3 folds for each of 100 candidates, totalling 300 fits\n"
     ]
    },
    {
     "data": {
      "text/plain": [
       "{'n_estimators': 1600,\n",
       " 'min_samples_split': 10,\n",
       " 'min_samples_leaf': 1,\n",
       " 'max_features': 'auto',\n",
       " 'max_depth': 10,\n",
       " 'bootstrap': True}"
      ]
     },
     "execution_count": 26,
     "metadata": {},
     "output_type": "execute_result"
    }
   ],
   "source": [
    "Random_Forest_Optimal_IHDP = RandomForestRegressor()\n",
    "\n",
    "random_grid = {'bootstrap': [True, False],\n",
    " 'max_depth': [10, 20, 30, 40, 50, 60, 70, 80, 90, 100, None],\n",
    " 'max_features': ['auto', 'sqrt'],\n",
    " 'min_samples_leaf': [1, 2, 4],\n",
    " 'min_samples_split': [2, 5, 10],\n",
    " 'n_estimators': [200, 400, 600, 800, 1000, 1200, 1400, 1600, 1800, 2000]}\n",
    "\n",
    "# Random search of parameters, using 3 fold cross validation, \n",
    "# search across 100 different combinations, and use all available cores\n",
    "RandomForest_random_IHDP = RandomizedSearchCV(estimator = Random_Forest_Optimal_IHDP, param_distributions = random_grid, n_iter = 100, cv = 3, verbose=2, n_jobs = -1)\n",
    "# Fit the random search model\n",
    "RandomForest_random_IHDP.fit(Concatenated_XT_train_IHDP, IHDP_yf_train.flatten())\n",
    "RandomForest_random_IHDP.best_params_"
   ]
  },
  {
   "cell_type": "markdown",
   "id": "01b86c67",
   "metadata": {},
   "source": [
    "### Random Search Jobs"
   ]
  },
  {
   "cell_type": "code",
   "execution_count": 27,
   "id": "68600d4d",
   "metadata": {},
   "outputs": [
    {
     "name": "stdout",
     "output_type": "stream",
     "text": [
      "Fitting 3 folds for each of 100 candidates, totalling 300 fits\n"
     ]
    },
    {
     "data": {
      "text/plain": [
       "{'n_estimators': 1400,\n",
       " 'min_samples_split': 10,\n",
       " 'min_samples_leaf': 4,\n",
       " 'max_features': 'sqrt',\n",
       " 'max_depth': 30,\n",
       " 'bootstrap': True}"
      ]
     },
     "execution_count": 27,
     "metadata": {},
     "output_type": "execute_result"
    }
   ],
   "source": [
    "Random_Forest_Optimal_Jobs = RandomForestRegressor()\n",
    "\n",
    "random_grid = {'bootstrap': [True, False],\n",
    " 'max_depth': [10, 20, 30, 40, 50, 60, 70, 80, 90, 100, None],\n",
    " 'max_features': ['auto', 'sqrt'],\n",
    " 'min_samples_leaf': [1, 2, 4],\n",
    " 'min_samples_split': [2, 5, 10],\n",
    " 'n_estimators': [200, 400, 600, 800, 1000, 1200, 1400, 1600, 1800, 2000]}\n",
    "\n",
    "\n",
    "# Random search of parameters, using 3 fold cross validation, \n",
    "# search across 100 different combinations, and use all available cores\n",
    "RandomForest_random_Jobs = RandomizedSearchCV(estimator = Random_Forest_Optimal_Jobs, param_distributions = random_grid, n_iter = 100, cv = 3, verbose=2, n_jobs = -1)\n",
    "# Fit the random search model\n",
    "RandomForest_random_Jobs.fit(Concatenated_XT_train_Jobs, Jobs_y_train.flatten())\n",
    "RandomForest_random_Jobs.best_params_"
   ]
  },
  {
   "cell_type": "markdown",
   "id": "748a1b92",
   "metadata": {},
   "source": [
    "### Grid Search IHDP"
   ]
  },
  {
   "cell_type": "markdown",
   "id": "e994fa0e",
   "metadata": {},
   "source": [
    "Using the results, we can construct our parameter grid for grid search with values more in the ballpark of what we're looking for "
   ]
  },
  {
   "cell_type": "code",
   "execution_count": 29,
   "id": "55ad69f2",
   "metadata": {},
   "outputs": [
    {
     "name": "stdout",
     "output_type": "stream",
     "text": [
      "Fitting 3 folds for each of 750 candidates, totalling 2250 fits\n"
     ]
    },
    {
     "data": {
      "text/plain": [
       "{'bootstrap': True,\n",
       " 'max_depth': 6,\n",
       " 'max_features': 'auto',\n",
       " 'min_samples_leaf': 2,\n",
       " 'min_samples_split': 8,\n",
       " 'n_estimators': 1600}"
      ]
     },
     "execution_count": 29,
     "metadata": {},
     "output_type": "execute_result"
    }
   ],
   "source": [
    "Benchmark_IHDP = RandomForestRegressor()\n",
    "# Our parameter Grid uses values centered around the parameters found from the random search\n",
    "param_grid = {\n",
    "    'bootstrap': [True],\n",
    "    'max_depth': [6, 8, 10, 12, 14],\n",
    "    'max_features': ['auto', 'sqrt'],\n",
    "    'min_samples_leaf': [2, 3, 4, 5, 6],\n",
    "    'min_samples_split': [8, 10, 12],\n",
    "    'n_estimators': [1000, 1200, 1400, 1600, 1800]\n",
    "}\n",
    "\n",
    "GridSearch_RF_IHDP = GridSearchCV(estimator = Benchmark_IHDP, param_grid = param_grid, cv = 3, n_jobs = -1, verbose = 2)\n",
    "GridSearch_RF_IHDP.fit(Concatenated_XT_train_IHDP, IHDP_yf_train.flatten())\n",
    "GridSearch_RF_IHDP.best_params_"
   ]
  },
  {
   "cell_type": "markdown",
   "id": "89e9abe9",
   "metadata": {},
   "source": [
    "### Grid Search Jobs"
   ]
  },
  {
   "cell_type": "code",
   "execution_count": 30,
   "id": "9092f593",
   "metadata": {},
   "outputs": [
    {
     "name": "stdout",
     "output_type": "stream",
     "text": [
      "Fitting 3 folds for each of 750 candidates, totalling 2250 fits\n"
     ]
    },
    {
     "data": {
      "text/plain": [
       "{'bootstrap': True,\n",
       " 'max_depth': 30,\n",
       " 'max_features': 'sqrt',\n",
       " 'min_samples_leaf': 6,\n",
       " 'min_samples_split': 8,\n",
       " 'n_estimators': 1600}"
      ]
     },
     "execution_count": 30,
     "metadata": {},
     "output_type": "execute_result"
    }
   ],
   "source": [
    "Benchmark_Jobs = RandomForestRegressor()\n",
    "# Our parameter Grid uses values centered around the parameters found from the random search\n",
    "param_grid = {\n",
    "    'bootstrap': [True],\n",
    "    'max_depth': [26, 28, 30, 32, 34],\n",
    "    'max_features': ['auto', 'sqrt'],\n",
    "    'min_samples_leaf': [2, 3, 4, 5, 6],\n",
    "    'min_samples_split': [8, 10, 12],\n",
    "    'n_estimators': [1000, 1200, 1400, 1600, 1800]\n",
    "}\n",
    "\n",
    "GridSearch_RF_Jobs = GridSearchCV(estimator = Benchmark_Jobs, param_grid = param_grid, cv = 3, n_jobs = -1, verbose = 2)\n",
    "GridSearch_RF_Jobs.fit(Concatenated_XT_train_Jobs, Jobs_y_train.flatten())\n",
    "GridSearch_RF_Jobs.best_params_"
   ]
  },
  {
   "cell_type": "markdown",
   "id": "81c146f5",
   "metadata": {},
   "source": [
    "### Performance Evaluation"
   ]
  },
  {
   "cell_type": "markdown",
   "id": "0f02bc25",
   "metadata": {},
   "source": [
    "Now we can evaluate the performance of our regressor using the metric we chose for the dataset in combination with 10 fold cross validation. "
   ]
  },
  {
   "cell_type": "code",
   "execution_count": 74,
   "id": "e5efeff4",
   "metadata": {},
   "outputs": [
    {
     "name": "stdout",
     "output_type": "stream",
     "text": [
      "F1 Score IHDP: -0.85 +/- 0.08\n",
      "F1 Score Jobs: -0.19 +/- 0.01\n"
     ]
    }
   ],
   "source": [
    "Optimal_RandomForest_IHDP = RandomForestRegressor(bootstrap=True, max_depth=6, max_features='auto', min_samples_leaf=2, min_samples_split=8, n_estimators=1600)\n",
    "scores_IHDP = cross_val_score(Optimal_RandomForest_IHDP, Concatenated_XT_train_IHDP, IHDP_yf_train.flatten(), cv=10, scoring='neg_mean_absolute_error')\n",
    "print(\"F1 Score IHDP: %0.2f +/- %0.2f\" % (scores_IHDP.mean(), scores_IHDP.std()))\n",
    "\n",
    "Optimal_RandomForest_Jobs = RandomForestRegressor(bootstrap=True, max_depth=30, max_features='sqrt', min_samples_leaf=6, min_samples_split=8, n_estimators=1600)\n",
    "scores_Jobs = cross_val_score(Optimal_RandomForest_Jobs, Concatenated_XT_train_Jobs, Jobs_y_train.flatten(), cv=10, scoring='neg_mean_absolute_error')\n",
    "print(\"F1 Score Jobs: %0.2f +/- %0.2f\" % (scores_Jobs.mean(), scores_Jobs.std()))"
   ]
  },
  {
   "cell_type": "markdown",
   "id": "b6384c1a",
   "metadata": {},
   "source": [
    "### Feature Importances"
   ]
  },
  {
   "cell_type": "markdown",
   "id": "38fd8247",
   "metadata": {},
   "source": [
    "Finally we can plot and vizualise the feature importances of the data, from most useful to least useful. As the columns don't have a title, we can recognize feature by their column indices. "
   ]
  },
  {
   "cell_type": "code",
   "execution_count": 41,
   "id": "23806ced",
   "metadata": {},
   "outputs": [
    {
     "name": "stdout",
     "output_type": "stream",
     "text": [
      "Feature Importances - IHDP\n",
      "1. Feature Column: 25 (0.600908)\n",
      "2. Feature Column: 5 (0.282527)\n",
      "3. Feature Column: 14 (0.043345)\n",
      "4. Feature Column: 0 (0.017077)\n",
      "5. Feature Column: 3 (0.012399)\n",
      "6. Feature Column: 4 (0.011895)\n",
      "7. Feature Column: 2 (0.006760)\n",
      "8. Feature Column: 1 (0.005523)\n",
      "9. Feature Column: 24 (0.002803)\n",
      "10. Feature Column: 6 (0.002148)\n",
      "11. Feature Column: 12 (0.001959)\n",
      "12. Feature Column: 13 (0.001884)\n",
      "13. Feature Column: 8 (0.001427)\n",
      "14. Feature Column: 10 (0.001254)\n",
      "15. Feature Column: 23 (0.001046)\n",
      "16. Feature Column: 16 (0.000904)\n",
      "17. Feature Column: 20 (0.000889)\n",
      "18. Feature Column: 19 (0.000810)\n",
      "19. Feature Column: 11 (0.000808)\n",
      "20. Feature Column: 9 (0.000776)\n",
      "21. Feature Column: 7 (0.000698)\n",
      "22. Feature Column: 21 (0.000629)\n",
      "23. Feature Column: 18 (0.000514)\n",
      "24. Feature Column: 15 (0.000503)\n",
      "25. Feature Column: 17 (0.000383)\n",
      "26. Feature Column: 22 (0.000132)\n",
      "\n",
      "Feature Importances - Jobs\n",
      "1. Feature Column: 7 (0.152845)\n",
      "2. Feature Column: 12 (0.151373)\n",
      "3. Feature Column: 11 (0.095442)\n",
      "4. Feature Column: 6 (0.091274)\n",
      "5. Feature Column: 15 (0.087411)\n",
      "6. Feature Column: 9 (0.065956)\n",
      "7. Feature Column: 0 (0.065185)\n",
      "8. Feature Column: 8 (0.064199)\n",
      "9. Feature Column: 14 (0.062757)\n",
      "10. Feature Column: 1 (0.030099)\n",
      "11. Feature Column: 10 (0.029976)\n",
      "12. Feature Column: 13 (0.027837)\n",
      "13. Feature Column: 4 (0.023975)\n",
      "14. Feature Column: 2 (0.020825)\n",
      "15. Feature Column: 17 (0.019333)\n",
      "16. Feature Column: 5 (0.007114)\n",
      "17. Feature Column: 3 (0.002489)\n",
      "18. Feature Column: 16 (0.001911)\n"
     ]
    }
   ],
   "source": [
    "# Feature Importances for the IHDP dataset using random forest regression\n",
    "Optimal_RandomForest_IHDP.fit(Concatenated_XT_train_IHDP, IHDP_yf_train.flatten())\n",
    "features_IHDP = list(Concatenated_XT_train_IHDP)\n",
    "importances_IHDP = Optimal_RandomForest_IHDP.feature_importances_\n",
    "std_IHDP = np.std([tree.feature_importances_ for tree in Optimal_RandomForest_IHDP.estimators_], axis=0)\n",
    "indices_IHDP = np.argsort(importances_IHDP)[::-1]\n",
    "print(\"Feature Importances - IHDP\")\n",
    "for f in range(Concatenated_XT_train_IHDP.shape[1]):\n",
    "    print(\"%d. %s (%f)\" % (f + 1, \"Feature Column: \"+ str(indices_IHDP[f]), importances_IHDP[indices_IHDP[f]]))\n",
    "\n",
    "# Feature Importances for the Jobs dataset using random forest regression  \n",
    "Optimal_RandomForest_Jobs.fit(Concatenated_XT_train_Jobs, Jobs_y_train.flatten())\n",
    "features_Jobs = list(Concatenated_XT_train_Jobs)\n",
    "importances_Jobs = Optimal_RandomForest_Jobs.feature_importances_\n",
    "std_Jobs = np.std([tree.feature_importances_ for tree in Optimal_RandomForest_Jobs.estimators_], axis=0)\n",
    "indices_Jobs = np.argsort(importances_Jobs)[::-1]\n",
    "print(\"\")\n",
    "print(\"Feature Importances - Jobs\")\n",
    "for f in range(Concatenated_XT_train_Jobs.shape[1]):\n",
    "    print(\"%d. %s (%f)\" % (f + 1, \"Feature Column: \"+ str(indices_Jobs[f]), importances_Jobs[indices_Jobs[f]]))\n",
    "    "
   ]
  },
  {
   "cell_type": "code",
   "execution_count": 53,
   "id": "be186e52",
   "metadata": {},
   "outputs": [
    {
     "data": {
      "image/png": "[encoded data removed]",
      "text/plain": [
       "<Figure size 1152x288 with 2 Axes>"
      ]
     },
     "metadata": {
      "needs_background": "light"
     },
     "output_type": "display_data"
    }
   ],
   "source": [
    "fig, axs = plt.subplots(1, 2, figsize=(16, 4))\n",
    "axs[0].bar(range(Concatenated_XT_train_IHDP.shape[1]), importances_IHDP[indices_IHDP], color=\"r\", yerr=std_IHDP[indices_IHDP], align=\"center\")\n",
    "axs[0].set_xticks(range(Concatenated_XT_train_IHDP.shape[1]), indices_IHDP)\n",
    "axs[0].set_xlim([-1, Concatenated_XT_train_IHDP.shape[1]])\n",
    "axs[0].set_ylim([0, None])\n",
    "axs[0].set_title(\"Feature Importances - IHDP\", fontsize=12, fontweight=\"bold\")\n",
    "axs[1].bar(range(Concatenated_XT_train_Jobs.shape[1]), importances_Jobs[indices_Jobs], color=\"r\", yerr=std_Jobs[indices_Jobs], align=\"center\")\n",
    "axs[1].set_xticks(range(Concatenated_XT_train_Jobs.shape[1]), indices_Jobs)\n",
    "axs[1].set_xlim([-1, Concatenated_XT_train_Jobs.shape[1]])\n",
    "axs[1].set_ylim([0, None])\n",
    "axs[1].set_title(\"Feature Importances - Jobs\", fontsize=12, fontweight=\"bold\")\n",
    "plt.show()"
   ]
  },
  {
   "cell_type": "markdown",
   "id": "fab8e493",
   "metadata": {},
   "source": [
    "IHDP - We can clearly see that the most important feature in our IHDP dataset is the feature at column index 25 (We have used column indexes as we don't have titles to refer to). Column 25 in this case is our concatenated treatment data. The feature importances for this dataset are extremely skewed most being weighted towards column 25, and 5. \n",
    "\n",
    "Jobs - We can see that the feature importances for the jobs dataset are less skewed have a more balanced variation in scores. Both background features 7 and 12 are seemingly the most important with both having an equal score. "
   ]
  },
  {
   "cell_type": "markdown",
   "id": "29207b7c",
   "metadata": {},
   "source": [
    "## Linear Regressor\n",
    "Here we will start with a simple model similar to the random forest machine learning process, however we will need to standardize the data. Any features that are non binary will be standardized, including the label (assuming it's non-binary). First, we need to check for non binary columns"
   ]
  },
  {
   "cell_type": "code",
   "execution_count": 58,
   "id": "ed2afe28",
   "metadata": {},
   "outputs": [
    {
     "data": {
      "text/html": [
       "<div>\n",
       "<style scoped>\n",
       "    .dataframe tbody tr th:only-of-type {\n",
       "        vertical-align: middle;\n",
       "    }\n",
       "\n",
       "    .dataframe tbody tr th {\n",
       "        vertical-align: top;\n",
       "    }\n",
       "\n",
       "    .dataframe thead th {\n",
       "        text-align: right;\n",
       "    }\n",
       "</style>\n",
       "<table border=\"1\" class=\"dataframe\">\n",
       "  <thead>\n",
       "    <tr style=\"text-align: right;\">\n",
       "      <th></th>\n",
       "      <th>0</th>\n",
       "      <th>1</th>\n",
       "      <th>2</th>\n",
       "      <th>3</th>\n",
       "      <th>4</th>\n",
       "      <th>5</th>\n",
       "      <th>6</th>\n",
       "      <th>7</th>\n",
       "      <th>8</th>\n",
       "      <th>9</th>\n",
       "      <th>10</th>\n",
       "      <th>11</th>\n",
       "      <th>12</th>\n",
       "      <th>13</th>\n",
       "      <th>14</th>\n",
       "      <th>15</th>\n",
       "      <th>16</th>\n",
       "    </tr>\n",
       "  </thead>\n",
       "  <tbody>\n",
       "    <tr>\n",
       "      <th>0</th>\n",
       "      <td>1.643886</td>\n",
       "      <td>-0.238888</td>\n",
       "      <td>1.0</td>\n",
       "      <td>0.0</td>\n",
       "      <td>0.0</td>\n",
       "      <td>1.0</td>\n",
       "      <td>-0.410375</td>\n",
       "      <td>0.175087</td>\n",
       "      <td>1.753878</td>\n",
       "      <td>1.819522</td>\n",
       "      <td>-0.361348</td>\n",
       "      <td>-0.427177</td>\n",
       "      <td>-0.134808</td>\n",
       "      <td>0.0</td>\n",
       "      <td>0.0</td>\n",
       "      <td>-0.432736</td>\n",
       "      <td>0.0</td>\n",
       "    </tr>\n",
       "    <tr>\n",
       "      <th>1</th>\n",
       "      <td>1.361615</td>\n",
       "      <td>0.101835</td>\n",
       "      <td>0.0</td>\n",
       "      <td>0.0</td>\n",
       "      <td>1.0</td>\n",
       "      <td>0.0</td>\n",
       "      <td>1.229890</td>\n",
       "      <td>0.886092</td>\n",
       "      <td>1.369836</td>\n",
       "      <td>1.331331</td>\n",
       "      <td>-0.022502</td>\n",
       "      <td>0.803586</td>\n",
       "      <td>0.407422</td>\n",
       "      <td>0.0</td>\n",
       "      <td>0.0</td>\n",
       "      <td>0.945621</td>\n",
       "      <td>0.0</td>\n",
       "    </tr>\n",
       "    <tr>\n",
       "      <th>2</th>\n",
       "      <td>-0.896553</td>\n",
       "      <td>-0.579611</td>\n",
       "      <td>1.0</td>\n",
       "      <td>0.0</td>\n",
       "      <td>1.0</td>\n",
       "      <td>1.0</td>\n",
       "      <td>-0.370916</td>\n",
       "      <td>-0.402755</td>\n",
       "      <td>-0.847312</td>\n",
       "      <td>-0.781606</td>\n",
       "      <td>-0.670730</td>\n",
       "      <td>-0.412788</td>\n",
       "      <td>-0.402437</td>\n",
       "      <td>0.0</td>\n",
       "      <td>0.0</td>\n",
       "      <td>-0.455851</td>\n",
       "      <td>0.0</td>\n",
       "    </tr>\n",
       "    <tr>\n",
       "      <th>3</th>\n",
       "      <td>-0.520192</td>\n",
       "      <td>1.124004</td>\n",
       "      <td>0.0</td>\n",
       "      <td>0.0</td>\n",
       "      <td>1.0</td>\n",
       "      <td>0.0</td>\n",
       "      <td>0.521758</td>\n",
       "      <td>-1.110467</td>\n",
       "      <td>-0.583365</td>\n",
       "      <td>-0.608340</td>\n",
       "      <td>1.170825</td>\n",
       "      <td>0.113210</td>\n",
       "      <td>-0.518815</td>\n",
       "      <td>0.0</td>\n",
       "      <td>1.0</td>\n",
       "      <td>0.710042</td>\n",
       "      <td>0.0</td>\n",
       "    </tr>\n",
       "    <tr>\n",
       "      <th>4</th>\n",
       "      <td>-1.084734</td>\n",
       "      <td>0.101835</td>\n",
       "      <td>0.0</td>\n",
       "      <td>0.0</td>\n",
       "      <td>0.0</td>\n",
       "      <td>0.0</td>\n",
       "      <td>-1.147411</td>\n",
       "      <td>-1.110467</td>\n",
       "      <td>-0.963448</td>\n",
       "      <td>-0.848598</td>\n",
       "      <td>-0.022502</td>\n",
       "      <td>-0.558057</td>\n",
       "      <td>-0.518815</td>\n",
       "      <td>1.0</td>\n",
       "      <td>1.0</td>\n",
       "      <td>-0.979981</td>\n",
       "      <td>0.0</td>\n",
       "    </tr>\n",
       "  </tbody>\n",
       "</table>\n",
       "</div>"
      ],
      "text/plain": [
       "         0         1    2    3    4    5         6         7         8   \\\n",
       "0  1.643886 -0.238888  1.0  0.0  0.0  1.0 -0.410375  0.175087  1.753878   \n",
       "1  1.361615  0.101835  0.0  0.0  1.0  0.0  1.229890  0.886092  1.369836   \n",
       "2 -0.896553 -0.579611  1.0  0.0  1.0  1.0 -0.370916 -0.402755 -0.847312   \n",
       "3 -0.520192  1.124004  0.0  0.0  1.0  0.0  0.521758 -1.110467 -0.583365   \n",
       "4 -1.084734  0.101835  0.0  0.0  0.0  0.0 -1.147411 -1.110467 -0.963448   \n",
       "\n",
       "         9         10        11        12   13   14        15   16  \n",
       "0  1.819522 -0.361348 -0.427177 -0.134808  0.0  0.0 -0.432736  0.0  \n",
       "1  1.331331 -0.022502  0.803586  0.407422  0.0  0.0  0.945621  0.0  \n",
       "2 -0.781606 -0.670730 -0.412788 -0.402437  0.0  0.0 -0.455851  0.0  \n",
       "3 -0.608340  1.170825  0.113210 -0.518815  0.0  1.0  0.710042  0.0  \n",
       "4 -0.848598 -0.022502 -0.558057 -0.518815  1.0  1.0 -0.979981  0.0  "
      ]
     },
     "execution_count": 58,
     "metadata": {},
     "output_type": "execute_result"
    }
   ],
   "source": [
    "temp_X_IHDP = pd.DataFrame(IHDP_x_train)\n",
    "temp_X_test_IHDP = pd.DataFrame(IHDP_x_test)\n",
    "#temp_X_IHDP.head()\n",
    "temp_yf_IHDP = pd.DataFrame(IHDP_yf_train)\n",
    "#temp_yf_IHDP.head()\n",
    "#[temp_X_IHDP[cols].unique() for cols in temp_X_IHDP]\n",
    "\n",
    "temp_X_Jobs = pd.DataFrame(Jobs_x_train)\n",
    "temp_X_test_Jobs = pd.DataFrame(Jobs_x_test)\n",
    "#temp_X_Jobs.head()\n",
    "#[temp_X_Jobs[cols].unique() for cols in temp_X_Jobs]\n",
    "temp_X_Jobs.head()"
   ]
  },
  {
   "cell_type": "markdown",
   "id": "ac16c970",
   "metadata": {},
   "source": [
    "### Scaling the data"
   ]
  },
  {
   "cell_type": "markdown",
   "id": "927c07e9",
   "metadata": {},
   "source": [
    "IHDP - We can see that columns 0-5 all require standard scaling, the rest are binary and therefore do not. We also know from previous modelling that our outcome column requires Standard scaling.\n",
    "\n",
    "Jobs - We can see that columns 0,1,6,7,8,9,10,11,12,15 all require standard scaling, the rest are binary and therefore do not. We also know from previous modelling that both our outcome and treatment columns are both binary and therefore also do not require any scaling."
   ]
  },
  {
   "cell_type": "code",
   "execution_count": 62,
   "id": "4b51ba31",
   "metadata": {},
   "outputs": [
    {
     "data": {
      "text/html": [
       "<div>\n",
       "<style scoped>\n",
       "    .dataframe tbody tr th:only-of-type {\n",
       "        vertical-align: middle;\n",
       "    }\n",
       "\n",
       "    .dataframe tbody tr th {\n",
       "        vertical-align: top;\n",
       "    }\n",
       "\n",
       "    .dataframe thead th {\n",
       "        text-align: right;\n",
       "    }\n",
       "</style>\n",
       "<table border=\"1\" class=\"dataframe\">\n",
       "  <thead>\n",
       "    <tr style=\"text-align: right;\">\n",
       "      <th></th>\n",
       "      <th>0</th>\n",
       "      <th>1</th>\n",
       "      <th>2</th>\n",
       "      <th>3</th>\n",
       "      <th>4</th>\n",
       "      <th>5</th>\n",
       "      <th>6</th>\n",
       "      <th>7</th>\n",
       "      <th>8</th>\n",
       "      <th>9</th>\n",
       "      <th>10</th>\n",
       "      <th>11</th>\n",
       "      <th>12</th>\n",
       "      <th>13</th>\n",
       "      <th>14</th>\n",
       "      <th>15</th>\n",
       "      <th>16</th>\n",
       "    </tr>\n",
       "  </thead>\n",
       "  <tbody>\n",
       "    <tr>\n",
       "      <th>0</th>\n",
       "      <td>1.631461</td>\n",
       "      <td>-0.237155</td>\n",
       "      <td>1.273353</td>\n",
       "      <td>-0.21844</td>\n",
       "      <td>-1.538497</td>\n",
       "      <td>1.0</td>\n",
       "      <td>-0.397488</td>\n",
       "      <td>0.185656</td>\n",
       "      <td>1.737026</td>\n",
       "      <td>1.797859</td>\n",
       "      <td>-0.358084</td>\n",
       "      <td>-0.413700</td>\n",
       "      <td>-0.127198</td>\n",
       "      <td>0.0</td>\n",
       "      <td>0.0</td>\n",
       "      <td>-0.421712</td>\n",
       "      <td>0.0</td>\n",
       "    </tr>\n",
       "    <tr>\n",
       "      <th>1</th>\n",
       "      <td>1.351530</td>\n",
       "      <td>0.106279</td>\n",
       "      <td>-0.785328</td>\n",
       "      <td>-0.21844</td>\n",
       "      <td>0.649985</td>\n",
       "      <td>0.0</td>\n",
       "      <td>1.218985</td>\n",
       "      <td>0.893228</td>\n",
       "      <td>1.356361</td>\n",
       "      <td>1.314496</td>\n",
       "      <td>-0.017011</td>\n",
       "      <td>0.768984</td>\n",
       "      <td>0.398280</td>\n",
       "      <td>0.0</td>\n",
       "      <td>0.0</td>\n",
       "      <td>0.939314</td>\n",
       "      <td>0.0</td>\n",
       "    </tr>\n",
       "    <tr>\n",
       "      <th>2</th>\n",
       "      <td>-0.887920</td>\n",
       "      <td>-0.580589</td>\n",
       "      <td>1.273353</td>\n",
       "      <td>-0.21844</td>\n",
       "      <td>0.649985</td>\n",
       "      <td>1.0</td>\n",
       "      <td>-0.358602</td>\n",
       "      <td>-0.389395</td>\n",
       "      <td>-0.841292</td>\n",
       "      <td>-0.777543</td>\n",
       "      <td>-0.669499</td>\n",
       "      <td>-0.399873</td>\n",
       "      <td>-0.386557</td>\n",
       "      <td>0.0</td>\n",
       "      <td>0.0</td>\n",
       "      <td>-0.444536</td>\n",
       "      <td>0.0</td>\n",
       "    </tr>\n",
       "    <tr>\n",
       "      <th>3</th>\n",
       "      <td>-0.514678</td>\n",
       "      <td>1.136581</td>\n",
       "      <td>-0.785328</td>\n",
       "      <td>-0.21844</td>\n",
       "      <td>0.649985</td>\n",
       "      <td>0.0</td>\n",
       "      <td>0.521125</td>\n",
       "      <td>-1.093690</td>\n",
       "      <td>-0.579667</td>\n",
       "      <td>-0.605991</td>\n",
       "      <td>1.184159</td>\n",
       "      <td>0.105577</td>\n",
       "      <td>-0.499340</td>\n",
       "      <td>0.0</td>\n",
       "      <td>1.0</td>\n",
       "      <td>0.706697</td>\n",
       "      <td>0.0</td>\n",
       "    </tr>\n",
       "    <tr>\n",
       "      <th>4</th>\n",
       "      <td>-1.074541</td>\n",
       "      <td>0.106279</td>\n",
       "      <td>-0.785328</td>\n",
       "      <td>-0.21844</td>\n",
       "      <td>-1.538497</td>\n",
       "      <td>0.0</td>\n",
       "      <td>-1.123833</td>\n",
       "      <td>-1.093690</td>\n",
       "      <td>-0.956407</td>\n",
       "      <td>-0.843872</td>\n",
       "      <td>-0.017011</td>\n",
       "      <td>-0.539467</td>\n",
       "      <td>-0.499340</td>\n",
       "      <td>1.0</td>\n",
       "      <td>1.0</td>\n",
       "      <td>-0.962077</td>\n",
       "      <td>0.0</td>\n",
       "    </tr>\n",
       "  </tbody>\n",
       "</table>\n",
       "</div>"
      ],
      "text/plain": [
       "         0         1         2        3         4    5         6         7   \\\n",
       "0  1.631461 -0.237155  1.273353 -0.21844 -1.538497  1.0 -0.397488  0.185656   \n",
       "1  1.351530  0.106279 -0.785328 -0.21844  0.649985  0.0  1.218985  0.893228   \n",
       "2 -0.887920 -0.580589  1.273353 -0.21844  0.649985  1.0 -0.358602 -0.389395   \n",
       "3 -0.514678  1.136581 -0.785328 -0.21844  0.649985  0.0  0.521125 -1.093690   \n",
       "4 -1.074541  0.106279 -0.785328 -0.21844 -1.538497  0.0 -1.123833 -1.093690   \n",
       "\n",
       "         8         9         10        11        12   13   14        15   16  \n",
       "0  1.737026  1.797859 -0.358084 -0.413700 -0.127198  0.0  0.0 -0.421712  0.0  \n",
       "1  1.356361  1.314496 -0.017011  0.768984  0.398280  0.0  0.0  0.939314  0.0  \n",
       "2 -0.841292 -0.777543 -0.669499 -0.399873 -0.386557  0.0  0.0 -0.444536  0.0  \n",
       "3 -0.579667 -0.605991  1.184159  0.105577 -0.499340  0.0  1.0  0.706697  0.0  \n",
       "4 -0.956407 -0.843872 -0.017011 -0.539467 -0.499340  1.0  1.0 -0.962077  0.0  "
      ]
     },
     "execution_count": 62,
     "metadata": {},
     "output_type": "execute_result"
    }
   ],
   "source": [
    "# IHDP\n",
    "# Scale the first 6 columns of our features (all non binary)\n",
    "temp_X_IHDP.iloc[:, 0:5] = StandardScaler().fit_transform(temp_X_IHDP.iloc[:, 0:5])\n",
    "temp_X_test_IHDP.iloc[:, 0:5] = StandardScaler().fit_transform(temp_X_test_IHDP.iloc[:, 0:5])\n",
    "# Scale our outcomes column \n",
    "IHDP_yf_train_Standardized = StandardScaler().fit_transform(temp_yf_IHDP) \n",
    "#temp_X_IHDP.head()\n",
    "IHDP_x_train_Standardized = temp_X_IHDP.to_numpy()\n",
    "IHDP_x_test_Standardized = temp_X_test_IHDP.to_numpy()\n",
    "\n",
    "\n",
    "# Jobs\n",
    "# Scale columns 0,1,6,7,8,9,10,11,12,15 (all non binary)\n",
    "temp_X_Jobs.iloc[:, [0,1,6,7,8,9,10,11,12,15]] = StandardScaler().fit_transform(temp_X_Jobs.iloc[:, [0,1,6,7,8,9,10,11,12,15]])\n",
    "temp_X_test_Jobs.iloc[:, [0,1,6,7,8,9,10,11,12,15]] = StandardScaler().fit_transform(temp_X_test_Jobs.iloc[:, [0,1,6,7,8,9,10,11,12,15]]) \n",
    "Jobs_x_train_Standardized = temp_X_Jobs.to_numpy()\n",
    "Jobs_x_test_Standardized = temp_X_test_Jobs.to_numpy()\n",
    "temp_X_Jobs.head()"
   ]
  },
  {
   "cell_type": "code",
   "execution_count": 63,
   "id": "bf1effee",
   "metadata": {},
   "outputs": [],
   "source": [
    "### Simple Linear Regressors"
   ]
  },
  {
   "cell_type": "markdown",
   "id": "c725d2ca",
   "metadata": {},
   "source": [
    "Now that we have scaled our data, we can start to produce some simple linear regressors using our background features concatenated with our treatment column and our training data outcomes"
   ]
  },
  {
   "cell_type": "code",
   "execution_count": 64,
   "id": "4d9aa5d6",
   "metadata": {},
   "outputs": [],
   "source": [
    "# Concatenate the treatment and feature columns for both datasets \n",
    "Concatenated_XT_train_IHDP = np.concatenate([IHDP_x_train_Standardized, IHDP_t_train], axis=1)\n",
    "Linear_Regressor_IHDP = LinearRegression().fit(Concatenated_XT_train_IHDP, IHDP_yf_train_Standardized.flatten())\n",
    "\n",
    "Concatenated_XT_train_Jobs = np.concatenate([Jobs_x_train_Standardized, Jobs_t_train], axis=1)\n",
    "Linear_Regressor_Jobs = LinearRegression().fit(Concatenated_XT_train_Jobs, Jobs_y_train.flatten())\n"
   ]
  },
  {
   "cell_type": "markdown",
   "id": "7ff440bd",
   "metadata": {},
   "source": [
    "We can now once again predict Y0 and Y1 given t=0 and t=1 respectively"
   ]
  },
  {
   "cell_type": "code",
   "execution_count": 65,
   "id": "85c36b3a",
   "metadata": {},
   "outputs": [],
   "source": [
    "# t=0 - IHDP\n",
    "Concatenated_XT_zeros_IHDP = np.concatenate([IHDP_x_test_Standardized, np.zeros_like(IHDP_t_test)], axis=1)\n",
    "Y0_IHDP = Linear_Regressor_IHDP.predict(Concatenated_XT_zeros_IHDP)\n",
    "# t=1 - IHDP\n",
    "Concatenated_XT_ones_IHDP = np.concatenate([IHDP_x_test_Standardized, np.ones_like(IHDP_t_test)], axis=1)\n",
    "Y1_IHDP = Linear_Regressor_IHDP.predict(Concatenated_XT_ones_IHDP)\n",
    "\n",
    "\n",
    "# t=0 - Jobs\n",
    "Concatenated_XT_zeros_Jobs = np.concatenate([Jobs_x_test_Standardized, np.zeros_like(Jobs_t_test)], axis=1)\n",
    "Y0_Jobs = Linear_Regressor_Jobs.predict(Concatenated_XT_zeros_Jobs)\n",
    "# t=1 - Jobs\n",
    "Concatenated_XT_ones_Jobs = np.concatenate([Jobs_x_test_Standardized, np.ones_like(Jobs_t_test)], axis=1)\n",
    "Y1_Jobs = Linear_Regressor_Jobs.predict(Concatenated_XT_ones_Jobs)"
   ]
  },
  {
   "cell_type": "markdown",
   "id": "a2a4b783",
   "metadata": {},
   "source": [
    "Now we can calculate our effect estimates as Y1-Y0 also referred to as individual treatment effect"
   ]
  },
  {
   "cell_type": "code",
   "execution_count": 66,
   "id": "443750ff",
   "metadata": {},
   "outputs": [],
   "source": [
    "#ITEs for IHDP dataset\n",
    "Effect_Estimates_IHDP = Y1_IHDP - Y0_IHDP\n",
    "#ITEs for Jobs dataset\n",
    "Effect_Estimates_Jobs = Y1_Jobs - Y0_Jobs"
   ]
  },
  {
   "cell_type": "markdown",
   "id": "bdae7766",
   "metadata": {},
   "source": [
    "For hyperparameter tuning, we can execute a grid search using the selection of parameters available to us to find the best performing linear regression model"
   ]
  },
  {
   "cell_type": "markdown",
   "id": "8fadbfd0",
   "metadata": {},
   "source": [
    "### Grid Search IHDP"
   ]
  },
  {
   "cell_type": "code",
   "execution_count": 70,
   "id": "29fcb832",
   "metadata": {},
   "outputs": [
    {
     "name": "stdout",
     "output_type": "stream",
     "text": [
      "Fitting 3 folds for each of 4 candidates, totalling 12 fits\n"
     ]
    },
    {
     "data": {
      "text/plain": [
       "{'fit_intercept': True, 'positive': True}"
      ]
     },
     "execution_count": 70,
     "metadata": {},
     "output_type": "execute_result"
    }
   ],
   "source": [
    "LinearRegressor_IHDP = LinearRegression()\n",
    "param_grid = {'fit_intercept': [True, False],\n",
    " 'positive': [True, False]} \n",
    "LinearRegressor_Grid_IHDP = GridSearchCV(estimator = LinearRegressor_IHDP, param_grid=param_grid, cv = 3, verbose=2, n_jobs = -1)\n",
    "LinearRegressor_Grid_IHDP.fit(Concatenated_XT_train_IHDP, IHDP_yf_train_Standardized.flatten())\n",
    "LinearRegressor_Grid_IHDP.best_params_"
   ]
  },
  {
   "cell_type": "markdown",
   "id": "6dca80be",
   "metadata": {},
   "source": [
    "### Grid Search Jobs"
   ]
  },
  {
   "cell_type": "code",
   "execution_count": 71,
   "id": "89403bc1",
   "metadata": {},
   "outputs": [
    {
     "name": "stdout",
     "output_type": "stream",
     "text": [
      "Fitting 3 folds for each of 4 candidates, totalling 12 fits\n"
     ]
    },
    {
     "data": {
      "text/plain": [
       "{'fit_intercept': True, 'positive': False}"
      ]
     },
     "execution_count": 71,
     "metadata": {},
     "output_type": "execute_result"
    }
   ],
   "source": [
    "LinearRegressor_Jobs = LinearRegression()\n",
    "param_grid = {'fit_intercept': [True, False],\n",
    " 'positive': [True, False]} \n",
    "LinearRegressor_Grid_Jobs = GridSearchCV(estimator = LinearRegressor_Jobs, param_grid=param_grid, cv = 3, verbose=2, n_jobs = -1)\n",
    "LinearRegressor_Grid_Jobs.fit(Concatenated_XT_train_Jobs, Jobs_y_train.flatten())\n",
    "LinearRegressor_Grid_Jobs.best_params_"
   ]
  },
  {
   "cell_type": "markdown",
   "id": "94eed5b7",
   "metadata": {},
   "source": [
    "### Performance Evaluation"
   ]
  },
  {
   "cell_type": "markdown",
   "id": "d0f4e6f7",
   "metadata": {},
   "source": [
    "Now we can evaluate the performance of our regressor using the metric we chose for the dataset in combination with 10 fold cross validation"
   ]
  },
  {
   "cell_type": "code",
   "execution_count": 76,
   "id": "13bc6eee",
   "metadata": {
    "scrolled": true
   },
   "outputs": [
    {
     "name": "stdout",
     "output_type": "stream",
     "text": [
      "F1 Score - IHDP: -0.41 +/- 0.05\n",
      "F1 Score - Jobs: -0.21 +/- 0.01\n"
     ]
    }
   ],
   "source": [
    "Optimal_LinearRegressor_IHDP = LinearRegression(fit_intercept=True, positive=True)\n",
    "scores_IHDP = cross_val_score(Optimal_LinearRegressor_IHDP, Concatenated_XT_train_IHDP, IHDP_yf_train_Standardized.flatten(), cv=10, scoring='neg_mean_absolute_error')\n",
    "print(\"F1 Score - IHDP: %0.2f +/- %0.2f\" % (scores_IHDP.mean(), scores_IHDP.std()))\n",
    "\n",
    "Optimal_LinearRegressor_Jobs = LinearRegression(fit_intercept=True, positive=False)\n",
    "scores_Jobs = cross_val_score(Optimal_LinearRegressor_Jobs, Concatenated_XT_train_Jobs, Jobs_y_train.flatten(), cv=10, scoring='neg_mean_absolute_error')\n",
    "print(\"F1 Score - Jobs: %0.2f +/- %0.2f\" % (scores_Jobs.mean(), scores_Jobs.std()))"
   ]
  },
  {
   "cell_type": "markdown",
   "id": "bcc5d202",
   "metadata": {},
   "source": [
    "### Feature Importances"
   ]
  },
  {
   "cell_type": "markdown",
   "id": "e3c30d2b",
   "metadata": {},
   "source": [
    "Finally we can plot and vizualise the feature importances of the data, from most useful to least useful. As the columns don't have a title, we can recognize feature by their column indices."
   ]
  },
  {
   "cell_type": "code",
   "execution_count": 78,
   "id": "a7ff63f2",
   "metadata": {},
   "outputs": [
    {
     "name": "stdout",
     "output_type": "stream",
     "text": [
      "Feature Importances - IHDP\n",
      "1. Feature Column: 25 (1.786676)\n",
      "2. Feature Column: 14 (0.550770)\n",
      "3. Feature Column: 5 (0.422404)\n",
      "4. Feature Column: 19 (0.161166)\n",
      "5. Feature Column: 23 (0.144043)\n",
      "6. Feature Column: 9 (0.143905)\n",
      "7. Feature Column: 3 (0.106858)\n",
      "8. Feature Column: 7 (0.093091)\n",
      "9. Feature Column: 17 (0.076635)\n",
      "10. Feature Column: 13 (0.051516)\n",
      "11. Feature Column: 11 (0.045780)\n",
      "12. Feature Column: 18 (0.028946)\n",
      "13. Feature Column: 22 (0.026606)\n",
      "14. Feature Column: 2 (0.018812)\n",
      "15. Feature Column: 4 (0.015816)\n",
      "16. Feature Column: 16 (0.010070)\n",
      "17. Feature Column: 24 (0.006968)\n",
      "18. Feature Column: 6 (0.000000)\n",
      "19. Feature Column: 1 (0.000000)\n",
      "20. Feature Column: 12 (0.000000)\n",
      "21. Feature Column: 8 (0.000000)\n",
      "22. Feature Column: 10 (0.000000)\n",
      "23. Feature Column: 15 (0.000000)\n",
      "24. Feature Column: 20 (0.000000)\n",
      "25. Feature Column: 21 (0.000000)\n",
      "26. Feature Column: 0 (0.000000)\n",
      "\n",
      "Feature Importances - Jobs\n",
      "1. Feature Column: 8 (0.477444)\n",
      "2. Feature Column: 7 (0.127623)\n",
      "3. Feature Column: 6 (0.115647)\n",
      "4. Feature Column: 10 (0.078410)\n",
      "5. Feature Column: 16 (0.068052)\n",
      "6. Feature Column: 17 (0.041538)\n",
      "7. Feature Column: 3 (0.011340)\n",
      "8. Feature Column: 2 (0.008940)\n",
      "9. Feature Column: 4 (0.000789)\n",
      "10. Feature Column: 5 (-0.010704)\n",
      "11. Feature Column: 11 (-0.020620)\n",
      "12. Feature Column: 12 (-0.056298)\n",
      "13. Feature Column: 1 (-0.073507)\n",
      "14. Feature Column: 15 (-0.090161)\n",
      "15. Feature Column: 13 (-0.112119)\n",
      "16. Feature Column: 14 (-0.163488)\n",
      "17. Feature Column: 9 (-0.256233)\n",
      "18. Feature Column: 0 (-0.279423)\n"
     ]
    }
   ],
   "source": [
    "Optimal_LinearRegressor_IHDP.fit(Concatenated_XT_train_IHDP, IHDP_yf_train_Standardized.flatten())\n",
    "features_IHDP = list(Concatenated_XT_train_IHDP)\n",
    "importances_IHDP = Optimal_LinearRegressor_IHDP.coef_\n",
    "indices_IHDP = np.argsort(importances_IHDP)[::-1]\n",
    "print(\"Feature Importances - IHDP\")\n",
    "for f in range(Concatenated_XT_train_IHDP.shape[1]):\n",
    "    print(\"%d. %s (%f)\" % (f + 1, \"Feature Column: \"+ str(indices_IHDP[f]), importances_IHDP[indices_IHDP[f]]))\n",
    "    \n",
    "    \n",
    "Optimal_LinearRegressor_Jobs.fit(Concatenated_XT_train_Jobs, Jobs_y_train.flatten())\n",
    "features_Jobs = list(Concatenated_XT_train_Jobs)\n",
    "importances_Jobs = Optimal_LinearRegressor_Jobs.coef_\n",
    "indices_Jobs = np.argsort(importances_Jobs)[::-1]\n",
    "print(\"\")\n",
    "print(\"Feature Importances - Jobs\")\n",
    "for f in range(Concatenated_XT_train_Jobs.shape[1]):\n",
    "    print(\"%d. %s (%f)\" % (f + 1, \"Feature Column: \"+ str(indices_Jobs[f]), importances_Jobs[indices_Jobs[f]]))"
   ]
  },
  {
   "cell_type": "code",
   "execution_count": 80,
   "id": "50ec8bd0",
   "metadata": {},
   "outputs": [
    {
     "data": {
      "image/png": "[encoded data removed]",
      "text/plain": [
       "<Figure size 1152x288 with 2 Axes>"
      ]
     },
     "metadata": {
      "needs_background": "light"
     },
     "output_type": "display_data"
    }
   ],
   "source": [
    "fig, axs = plt.subplots(1, 2, figsize=(16, 4))\n",
    "axs[0].bar(range(Concatenated_XT_train_IHDP.shape[1]), importances_IHDP[indices_IHDP], color=\"r\", align=\"center\")\n",
    "axs[0].set_xticks(range(Concatenated_XT_train_IHDP.shape[1]), indices_IHDP)\n",
    "axs[0].set_xlim([-1, Concatenated_XT_train_IHDP.shape[1]])\n",
    "axs[0].set_ylim([0, None])\n",
    "axs[0].set_title(\"Feature Importances - IHDP\", fontsize=12, fontweight=\"bold\")\n",
    "axs[1].bar(range(Concatenated_XT_train_Jobs.shape[1]), importances_Jobs[indices_Jobs], color=\"r\", align=\"center\")\n",
    "axs[1].set_xticks(range(Concatenated_XT_train_Jobs.shape[1]), indices_Jobs)\n",
    "axs[1].set_xlim([-1, Concatenated_XT_train_Jobs.shape[1]])\n",
    "axs[1].set_ylim([0, None])\n",
    "axs[1].set_title(\"Feature Importances - Jobs\", fontsize=12, fontweight=\"bold\")\n",
    "plt.show()"
   ]
  },
  {
   "cell_type": "markdown",
   "id": "3e783d1a",
   "metadata": {},
   "source": [
    "IHDP - Similarly to the random forest regressor, our feature importances follow an extemely similar pattern with the results being extremely skewed and our most important features being, our treatment column, background feature 14, and background feature 5.\n",
    "\n",
    "Jobs - The skewness of the feature importances has completely changes after using linear regressions, we now have unbalanced importances, with our previously most importance features being much further down the list?? "
   ]
  },
  {
   "cell_type": "markdown",
   "id": "8607721f",
   "metadata": {},
   "source": [
    "## Propensity Score Re-weighting"
   ]
  },
  {
   "cell_type": "markdown",
   "id": "16b51c86",
   "metadata": {},
   "source": [
    "For this section we are going to use a random forest classifier. First we need to train a classifer to predict propensity scores based on background features. We also need a function that calculates sample weights based on these propensity scores."
   ]
  },
  {
   "cell_type": "markdown",
   "id": "d5e4d700",
   "metadata": {},
   "source": [
    "Let's train our classifier to predic propensity scores and then define each of the variables of the IPSW equation: ti, e(x) Note: e(x) can also be referred to as P(ti|xi)"
   ]
  },
  {
   "cell_type": "code",
   "execution_count": 86,
   "id": "b3b6d703",
   "metadata": {},
   "outputs": [],
   "source": [
    "Simple_Classifier_IHDP = RandomForestClassifier()\n",
    "Simple_Classifier_Jobs = RandomForestClassifier()\n",
    "\n",
    "# These will act as our ti values \n",
    "ti_IHDP = np.squeeze(IHDP_t_train)\n",
    "ti_Jobs= np.squeeze(Jobs_t_train)\n",
    "\n",
    "# Classifiers trained to predict propensity scores\n",
    "Simple_Classifier_IHDP.fit(IHDP_x_train, ti_IHDP)\n",
    "Simple_Classifier_Jobs.fit(Jobs_x_train, ti_Jobs)\n",
    "\n",
    "# These will act as our ptx values\n",
    "ex_IHDP = Simple_Classifier_IHDP.predict_proba(IHDP_x_train).T[1].T + 0.0001\n",
    "ex_Jobs = Simple_Classifier_Jobs.predict_proba(Jobs_x_train).T[1].T + 0.0001"
   ]
  },
  {
   "cell_type": "markdown",
   "id": "30764785",
   "metadata": {},
   "source": [
    "Given the equation: \n",
    "    \n",
    "$$w_i = \\frac{t_i}{e(x_i)} + \\frac{1-t_i}{1-e(x_i)}$$\n",
    "\n",
    "Our function is defined as follows"
   ]
  },
  {
   "cell_type": "code",
   "execution_count": 88,
   "id": "d30e3db3",
   "metadata": {},
   "outputs": [],
   "source": [
    "def Calc_Weights(ti, ex):\n",
    "    wi = (ti / ex) + ((1-ti) / (1-ex))\n",
    "    return wi\n",
    "\n",
    "Sample_Weights_IHDP = Calc_Weights(ti_IHDP, ex_IHDP)\n",
    "Sample_Weights_Jobs = Calc_Weights(ti_Jobs, ex_Jobs)"
   ]
  },
  {
   "cell_type": "markdown",
   "id": "e1daa579",
   "metadata": {},
   "source": [
    "Now that we have our sample weights, we can train our regressors using the weights"
   ]
  },
  {
   "cell_type": "code",
   "execution_count": 90,
   "id": "f2a7ec5e",
   "metadata": {},
   "outputs": [
    {
     "data": {
      "text/plain": [
       "LinearRegression()"
      ]
     },
     "execution_count": 90,
     "metadata": {},
     "output_type": "execute_result"
    }
   ],
   "source": [
    "Concatenated_XT_train_IHDP = np.concatenate([IHDP_x_train, IHDP_t_train], axis=1)\n",
    "Concatenated_XT_train_Jobs = np.concatenate([Jobs_x_train, Jobs_t_train], axis=1)\n",
    "\n",
    "RandomForest_IHDP_IPSW = RandomForestRegressor()\n",
    "RandomForest_Jobs_IPSW = RandomForestRegressor()\n",
    "LinearRegressor_IHDP_IPSW = LinearRegression()\n",
    "LinearRegressor_Jobs_IPSW = LinearRegression()\n",
    "\n",
    "RandomForest_IHDP_IPSW.fit(Concatenated_XT_train_IHDP, IHDP_yf_train.flatten(), sample_weight=Sample_Weights_IHDP)\n",
    "RandomForest_Jobs_IPSW.fit(Concatenated_XT_train_Jobs, Jobs_y_train.flatten(), sample_weight=Sample_Weights_Jobs)\n",
    "LinearRegressor_IHDP_IPSW.fit(Concatenated_XT_train_IHDP, IHDP_yf_train.flatten(), sample_weight=Sample_Weights_IHDP)\n",
    "LinearRegressor_Jobs_IPSW.fit(Concatenated_XT_train_Jobs, Jobs_y_train.flatten(), sample_weight=Sample_Weights_Jobs)"
   ]
  },
  {
   "cell_type": "markdown",
   "id": "12791502",
   "metadata": {},
   "source": [
    "Now we repeat the same steps from the previous tasks; finding optimal hyperparameters and modelling our feature importances."
   ]
  },
  {
   "cell_type": "code",
   "execution_count": null,
   "id": "65871741",
   "metadata": {},
   "outputs": [],
   "source": []
  }
 ],
 "metadata": {
  "kernelspec": {
   "display_name": "Python 3 (ipykernel)",
   "language": "python",
   "name": "python3"
  },
  "language_info": {
   "codemirror_mode": {
    "name": "ipython",
    "version": 3
   },
   "file_extension": ".py",
   "mimetype": "text/x-python",
   "name": "python",
   "nbconvert_exporter": "python",
   "pygments_lexer": "ipython3",
   "version": "3.9.7"
  }
 },
 "nbformat": 4,
 "nbformat_minor": 5
}
